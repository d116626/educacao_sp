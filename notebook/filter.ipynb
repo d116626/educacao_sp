{
 "cells": [
  {
   "cell_type": "code",
   "execution_count": 1,
   "metadata": {},
   "outputs": [],
   "source": [
    "import pandas as pd\n",
    "import numpy as np\n",
    "import os\n",
    "\n",
    "pd.options.display.max_columns = 999\n",
    "pd.options.display.max_rows = 999\n",
    "\n",
    "pd.options.display.max_colwidth = 100\n",
    "\n",
    "\n",
    "\n"
   ]
  },
  {
   "cell_type": "code",
   "execution_count": 2,
   "metadata": {},
   "outputs": [],
   "source": [
    "dd = pd.read_csv('../data/MATRICULA_SUDESTE.CSV', sep='|', nrows=20)"
   ]
  },
  {
   "cell_type": "code",
   "execution_count": 4,
   "metadata": {},
   "outputs": [],
   "source": [
    "cols = ['NU_ANO_CENSO','ID_MATRICULA','NU_IDADE_REFERENCIA','TP_SEXO','TP_COR_RACA','CO_ENTIDADE','CO_UF','CO_MUNICIPIO','CO_DISTRITO','TP_DEPENDENCIA','TP_CATEGORIA_ESCOLA_PRIVADA']"
   ]
  },
  {
   "cell_type": "code",
   "execution_count": 8,
   "metadata": {},
   "outputs": [],
   "source": [
    "# df_sp = pd.DataFrame()\n",
    "# i=0\n",
    "# for chunk in  pd.read_csv('../data/MATRICULA_SUDESTE.CSV', sep='|', chunksize=10**6):\n",
    "\n",
    "#     mask = chunk['CO_UF']==35\n",
    "#     dd = chunk[mask]\n",
    "# #     df_sp = pd.concat([df_sp,dd],axis=0) \n",
    "#     dd = dd[cols]\n",
    "    \n",
    "    \n",
    "    \n",
    "#     print(i, len(dd))\n",
    "\n",
    "#     if os.path.exists(\"escolas_sp.csv\"):\n",
    "#         dd.to_csv('escolas_sp.csv',index=False, encoding='utf-8' ,mode='a', header=False)    \n",
    "#     else:\n",
    "#         dd.to_csv('escolas_sp.csv',index=False, encoding='utf-8')    \n",
    "\n",
    "#     i+=1"
   ]
  },
  {
   "cell_type": "code",
   "execution_count": null,
   "metadata": {},
   "outputs": [],
   "source": []
  },
  {
   "cell_type": "code",
   "execution_count": null,
   "metadata": {},
   "outputs": [],
   "source": []
  },
  {
   "cell_type": "code",
   "execution_count": null,
   "metadata": {},
   "outputs": [],
   "source": []
  },
  {
   "cell_type": "code",
   "execution_count": null,
   "metadata": {},
   "outputs": [],
   "source": []
  },
  {
   "cell_type": "code",
   "execution_count": null,
   "metadata": {},
   "outputs": [],
   "source": []
  },
  {
   "cell_type": "code",
   "execution_count": null,
   "metadata": {},
   "outputs": [],
   "source": []
  },
  {
   "cell_type": "code",
   "execution_count": null,
   "metadata": {},
   "outputs": [],
   "source": []
  },
  {
   "cell_type": "code",
   "execution_count": null,
   "metadata": {},
   "outputs": [],
   "source": []
  },
  {
   "cell_type": "code",
   "execution_count": null,
   "metadata": {},
   "outputs": [],
   "source": []
  },
  {
   "cell_type": "code",
   "execution_count": null,
   "metadata": {},
   "outputs": [],
   "source": []
  }
 ],
 "metadata": {
  "kernelspec": {
   "display_name": "Python 3",
   "language": "python",
   "name": "python3"
  },
  "language_info": {
   "codemirror_mode": {
    "name": "ipython",
    "version": 3
   },
   "file_extension": ".py",
   "mimetype": "text/x-python",
   "name": "python",
   "nbconvert_exporter": "python",
   "pygments_lexer": "ipython3",
   "version": "3.7.4"
  }
 },
 "nbformat": 4,
 "nbformat_minor": 4
}
